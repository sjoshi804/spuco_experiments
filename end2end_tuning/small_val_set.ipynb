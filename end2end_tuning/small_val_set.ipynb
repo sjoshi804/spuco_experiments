{
 "cells": [
  {
   "cell_type": "code",
   "execution_count": 2,
   "metadata": {},
   "outputs": [],
   "source": [
    "from wilds import get_dataset\n",
    "import argparse\n",
    "import os\n",
    "\n",
    "import pandas as pd\n",
    "import torch\n",
    "import torchvision.transforms as transforms\n",
    "from torch.optim import SGD\n",
    "from wilds import get_dataset\n",
    "\n",
    "from spuco.datasets import GroupLabeledDatasetWrapper, WILDSDatasetWrapper\n",
    "from spuco.evaluate import Evaluator, GroupEvaluator\n",
    "from spuco.group_inference import EIIL\n",
    "from spuco.robust_train import GroupDRO\n",
    "from spuco.models import model_factory\n",
    "from spuco.utils import Trainer, set_seed\n",
    "from spuco.utils.misc import get_model_outputs\n",
    "\n",
    "dataset = get_dataset(dataset=\"waterbirds\", download=True, root_dir=\"/data\")\n",
    "\n",
    "transform = transforms.Compose([\n",
    "            transforms.Resize(256),\n",
    "            transforms.CenterCrop(224),\n",
    "            transforms.ToTensor(),\n",
    "            transforms.Normalize((0.485, 0.456, 0.406), (0.229, 0.224, 0.225))\n",
    "        ])\n",
    "\n",
    "\n",
    "train_data = dataset.get_subset(\n",
    "    \"train\",\n",
    "    transform=transform\n",
    ")\n",
    "\n",
    "val_data = dataset.get_subset(\n",
    "    \"val\",\n",
    "    transform=transform\n",
    ")"
   ]
  },
  {
   "cell_type": "code",
   "execution_count": 3,
   "metadata": {},
   "outputs": [
    {
     "name": "stderr",
     "output_type": "stream",
     "text": [
      "Partitioning data indices into groups: 100%|██████████| 1199/1199 [00:00<00:00, 1963674.54it/s]\n"
     ]
    }
   ],
   "source": [
    "valset = WILDSDatasetWrapper(dataset=val_data, metadata_spurious_label=\"background\", verbose=True)"
   ]
  },
  {
   "cell_type": "code",
   "execution_count": 12,
   "metadata": {},
   "outputs": [],
   "source": [
    "import random \n",
    "\n",
    "subset_indices = []\n",
    "\n",
    "for key in valset.group_partition.keys():\n",
    "    subset_indices.extend(random.sample(valset.group_partition[key], k=3 * int(len(valset.group_partition[key]) / 5)))"
   ]
  },
  {
   "cell_type": "code",
   "execution_count": 13,
   "metadata": {},
   "outputs": [],
   "source": [
    "import pickle \n",
    "\n",
    "with open(\"wbirds_5pct_val_set.pkl\", \"wb\") as f:\n",
    "    pickle.dump(subset_indices, f)"
   ]
  },
  {
   "cell_type": "code",
   "execution_count": 14,
   "metadata": {},
   "outputs": [
    {
     "name": "stderr",
     "output_type": "stream",
     "text": [
      "Partitioning data indices into groups: 100%|██████████| 1199/1199 [00:00<00:00, 250996.73it/s]\n"
     ]
    }
   ],
   "source": [
    "small_valset =  WILDSDatasetWrapper(dataset=val_data, metadata_spurious_label=\"background\", verbose=True, subset_indices=subset_indices)"
   ]
  },
  {
   "cell_type": "code",
   "execution_count": 15,
   "metadata": {},
   "outputs": [
    {
     "name": "stdout",
     "output_type": "stream",
     "text": [
      "714\n"
     ]
    }
   ],
   "source": [
    "total_len = 0\n",
    "\n",
    "for key in small_valset.group_partition.keys():\n",
    "    total_len += len(small_valset.group_partition[key])\n",
    "    \n",
    "print(total_len)"
   ]
  }
 ],
 "metadata": {
  "kernelspec": {
   "display_name": "clip",
   "language": "python",
   "name": "python3"
  },
  "language_info": {
   "codemirror_mode": {
    "name": "ipython",
    "version": 3
   },
   "file_extension": ".py",
   "mimetype": "text/x-python",
   "name": "python",
   "nbconvert_exporter": "python",
   "pygments_lexer": "ipython3",
   "version": "3.10.9"
  }
 },
 "nbformat": 4,
 "nbformat_minor": 2
}
