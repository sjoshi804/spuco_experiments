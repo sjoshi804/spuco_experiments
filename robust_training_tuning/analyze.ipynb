{
 "cells": [
  {
   "cell_type": "code",
   "execution_count": 1,
   "metadata": {},
   "outputs": [],
   "source": [
    "import pandas as pd \n",
    "\n",
    "df = pd.read_csv(\"results.csv\")"
   ]
  },
  {
   "cell_type": "code",
   "execution_count": 2,
   "metadata": {},
   "outputs": [
    {
     "data": {
      "text/plain": [
       "Index(['alg', 'timestamp', 'lr', 'weight_decay', 'gpu', 'seed', 'root_dir',\n",
       "       'results_csv', 'num_epochs', 'batch_size', 'momentum', 'pretrained',\n",
       "       'val_gradcam_iou', 'val_worst_group_accuracy',\n",
       "       'val_avg_min_group_accuracy', 'val_average_accuracy',\n",
       "       'test_spurious_attribute_prediction', 'test_worst_group_accuracy',\n",
       "       'test_average_accuracy'],\n",
       "      dtype='object')"
      ]
     },
     "execution_count": 2,
     "metadata": {},
     "output_type": "execute_result"
    }
   ],
   "source": [
    "df.columns"
   ]
  },
  {
   "cell_type": "code",
   "execution_count": 75,
   "metadata": {},
   "outputs": [],
   "source": [
    "METRIC = \"val_worst_group_accuracy\" #$val_gradcam_iou\"#\"val_gradcam_iou\" # , , \"val_avg_min_group_accuracy\"#\n",
    "columns = [METRIC, \"test_worst_group_accuracy\", \"test_average_accuracy\"]"
   ]
  },
  {
   "cell_type": "code",
   "execution_count": 76,
   "metadata": {},
   "outputs": [],
   "source": [
    "method_df = df[df[\"alg\"] == \"spare_train\"][columns]"
   ]
  },
  {
   "cell_type": "code",
   "execution_count": 77,
   "metadata": {},
   "outputs": [
    {
     "data": {
      "text/html": [
       "<div>\n",
       "<style scoped>\n",
       "    .dataframe tbody tr th:only-of-type {\n",
       "        vertical-align: middle;\n",
       "    }\n",
       "\n",
       "    .dataframe tbody tr th {\n",
       "        vertical-align: top;\n",
       "    }\n",
       "\n",
       "    .dataframe thead th {\n",
       "        text-align: right;\n",
       "    }\n",
       "</style>\n",
       "<table border=\"1\" class=\"dataframe\">\n",
       "  <thead>\n",
       "    <tr style=\"text-align: right;\">\n",
       "      <th></th>\n",
       "      <th>val_worst_group_accuracy</th>\n",
       "      <th>test_worst_group_accuracy</th>\n",
       "      <th>test_average_accuracy</th>\n",
       "    </tr>\n",
       "  </thead>\n",
       "  <tbody>\n",
       "    <tr>\n",
       "      <th>2089</th>\n",
       "      <td>66.165414</td>\n",
       "      <td>64.641745</td>\n",
       "      <td>97.112070</td>\n",
       "    </tr>\n",
       "    <tr>\n",
       "      <th>2084</th>\n",
       "      <td>65.413534</td>\n",
       "      <td>65.732087</td>\n",
       "      <td>97.358369</td>\n",
       "    </tr>\n",
       "    <tr>\n",
       "      <th>2090</th>\n",
       "      <td>65.413534</td>\n",
       "      <td>64.174455</td>\n",
       "      <td>97.026577</td>\n",
       "    </tr>\n",
       "    <tr>\n",
       "      <th>2088</th>\n",
       "      <td>65.413534</td>\n",
       "      <td>64.485981</td>\n",
       "      <td>97.134944</td>\n",
       "    </tr>\n",
       "    <tr>\n",
       "      <th>2086</th>\n",
       "      <td>65.413534</td>\n",
       "      <td>62.928349</td>\n",
       "      <td>97.385486</td>\n",
       "    </tr>\n",
       "    <tr>\n",
       "      <th>...</th>\n",
       "      <td>...</td>\n",
       "      <td>...</td>\n",
       "      <td>...</td>\n",
       "    </tr>\n",
       "    <tr>\n",
       "      <th>2288</th>\n",
       "      <td>0.000000</td>\n",
       "      <td>0.000000</td>\n",
       "      <td>23.211679</td>\n",
       "    </tr>\n",
       "    <tr>\n",
       "      <th>2289</th>\n",
       "      <td>0.000000</td>\n",
       "      <td>0.000000</td>\n",
       "      <td>23.211679</td>\n",
       "    </tr>\n",
       "    <tr>\n",
       "      <th>2290</th>\n",
       "      <td>0.000000</td>\n",
       "      <td>0.000000</td>\n",
       "      <td>23.211679</td>\n",
       "    </tr>\n",
       "    <tr>\n",
       "      <th>2291</th>\n",
       "      <td>0.000000</td>\n",
       "      <td>0.000000</td>\n",
       "      <td>23.211679</td>\n",
       "    </tr>\n",
       "    <tr>\n",
       "      <th>2160</th>\n",
       "      <td>0.000000</td>\n",
       "      <td>0.000000</td>\n",
       "      <td>23.211679</td>\n",
       "    </tr>\n",
       "  </tbody>\n",
       "</table>\n",
       "<p>480 rows × 3 columns</p>\n",
       "</div>"
      ],
      "text/plain": [
       "      val_worst_group_accuracy  test_worst_group_accuracy  \\\n",
       "2089                 66.165414                  64.641745   \n",
       "2084                 65.413534                  65.732087   \n",
       "2090                 65.413534                  64.174455   \n",
       "2088                 65.413534                  64.485981   \n",
       "2086                 65.413534                  62.928349   \n",
       "...                        ...                        ...   \n",
       "2288                  0.000000                   0.000000   \n",
       "2289                  0.000000                   0.000000   \n",
       "2290                  0.000000                   0.000000   \n",
       "2291                  0.000000                   0.000000   \n",
       "2160                  0.000000                   0.000000   \n",
       "\n",
       "      test_average_accuracy  \n",
       "2089              97.112070  \n",
       "2084              97.358369  \n",
       "2090              97.026577  \n",
       "2088              97.134944  \n",
       "2086              97.385486  \n",
       "...                     ...  \n",
       "2288              23.211679  \n",
       "2289              23.211679  \n",
       "2290              23.211679  \n",
       "2291              23.211679  \n",
       "2160              23.211679  \n",
       "\n",
       "[480 rows x 3 columns]"
      ]
     },
     "execution_count": 77,
     "metadata": {},
     "output_type": "execute_result"
    }
   ],
   "source": [
    "method_df.sort_values(by=METRIC, ascending=False)"
   ]
  }
 ],
 "metadata": {
  "kernelspec": {
   "display_name": "clip",
   "language": "python",
   "name": "python3"
  },
  "language_info": {
   "codemirror_mode": {
    "name": "ipython",
    "version": 3
   },
   "file_extension": ".py",
   "mimetype": "text/x-python",
   "name": "python",
   "nbconvert_exporter": "python",
   "pygments_lexer": "ipython3",
   "version": "3.10.9"
  }
 },
 "nbformat": 4,
 "nbformat_minor": 2
}
